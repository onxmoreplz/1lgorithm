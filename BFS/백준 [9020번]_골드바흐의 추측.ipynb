{
 "cells": [
  {
   "cell_type": "code",
   "execution_count": null,
   "metadata": {},
   "outputs": [],
   "source": [
    "import sys\n",
    "\n",
    "prime = [0 for _ in range(10001)]\n",
    "prime[1] = 1\n",
    "for i in range(2, 101):\n",
    "    for j in range(i*2, 10001, i):\n",
    "        prime[j] = 1\n",
    "\n",
    "n = int(sys.stdin.readline().strip())\n",
    "\n",
    "for _ in range(n):\n",
    "    a = int(sys.stdin.readline().strip())\n",
    "    b = a // 2\n",
    "    for j in range(b, 1, -1):\n",
    "        if prime[j] == 0 and prime[a-j] == 0:\n",
    "            print(j, a-j)\n",
    "            break"
   ]
  }
 ],
 "metadata": {
  "kernelspec": {
   "display_name": "Python 3",
   "language": "python",
   "name": "python3"
  },
  "language_info": {
   "codemirror_mode": {
    "name": "ipython",
    "version": 3
   },
   "file_extension": ".py",
   "mimetype": "text/x-python",
   "name": "python",
   "nbconvert_exporter": "python",
   "pygments_lexer": "ipython3",
   "version": "3.8.5"
  }
 },
 "nbformat": 4,
 "nbformat_minor": 4
}
