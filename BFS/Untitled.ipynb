{
 "cells": [
  {
   "cell_type": "code",
   "execution_count": 5,
   "metadata": {},
   "outputs": [
    {
     "name": "stdout",
     "output_type": "stream",
     "text": [
      "[{2}, {22}, {222}, {2222}, {22222}, {222222}, {2222222}, {22222222}]\n"
     ]
    },
    {
     "data": {
      "text/plain": [
       "3"
      ]
     },
     "execution_count": 5,
     "metadata": {},
     "output_type": "execute_result"
    }
   ],
   "source": [
    "def solution(N, number):\n",
    "    dp  =[set([N*int('1'*i)]) for i in range(1, 9)]\n",
    "    print(dp)\n",
    "    \n",
    "    for i in range(8):\n",
    "        for j in range(i):\n",
    "            for num1 in dp[j]:\n",
    "                for num2 in dp[i-j-1]:\n",
    "                    dp[i].add(num1 + num2)\n",
    "                    dp[i].add(num1 - num2)\n",
    "                    dp[i].add(num1 * num2)\n",
    "                    if num2 != 0:\n",
    "                        dp[i].add(num1 // num2)\n",
    "                        \n",
    "        if number in dp[i]:\n",
    "            return i+1\n",
    "    return -1\n",
    "\n",
    "solution(2, 11)"
   ]
  },
  {
   "cell_type": "code",
   "execution_count": null,
   "metadata": {},
   "outputs": [],
   "source": []
  }
 ],
 "metadata": {
  "kernelspec": {
   "display_name": "Python 3",
   "language": "python",
   "name": "python3"
  },
  "language_info": {
   "codemirror_mode": {
    "name": "ipython",
    "version": 3
   },
   "file_extension": ".py",
   "mimetype": "text/x-python",
   "name": "python",
   "nbconvert_exporter": "python",
   "pygments_lexer": "ipython3",
   "version": "3.8.5"
  }
 },
 "nbformat": 4,
 "nbformat_minor": 4
}
