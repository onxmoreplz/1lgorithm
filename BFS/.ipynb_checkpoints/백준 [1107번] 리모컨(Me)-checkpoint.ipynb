{
 "cells": [
  {
   "cell_type": "code",
   "execution_count": null,
   "metadata": {},
   "outputs": [],
   "source": [
    "import sys\n",
    "\n",
    "remain = [0, 1, 2, 3, 4, 5, 6, 7, 8, 9]\n",
    "currentNum = 100\n",
    "\n",
    "goal = sys.stdin.readline()\n",
    "N = sys.stdin.readline()\n",
    "disNums = sys.stdin.readline().split()\n",
    "\n",
    "for disNum in disNums:\n",
    "  remain.remove(int(disNum))\n",
    "\n",
    "if int(goal) == 100:\n",
    "  print(0)\n",
    "else:\n",
    "  answer = 0\n",
    "  for i in range(0, len(goal)-1):\n",
    "    if int(goal[i]) in remain:\n",
    "      answer += 1\n",
    "    else:\n",
    "      for diff in range(1, 6):\n",
    "        if (int(goal[i]) + diff) in remain or (int(goal[i]) - diff) in remain:\n",
    "          answer += diff*(10**(len(goal)-1 - i -1)) + 1\n",
    "          break\n",
    "          \n",
    "  print(answer)"
   ]
  }
 ],
 "metadata": {
  "kernelspec": {
   "display_name": "Python 3",
   "language": "python",
   "name": "python3"
  },
  "language_info": {
   "codemirror_mode": {
    "name": "ipython",
    "version": 3
   },
   "file_extension": ".py",
   "mimetype": "text/x-python",
   "name": "python",
   "nbconvert_exporter": "python",
   "pygments_lexer": "ipython3",
   "version": "3.8.5"
  }
 },
 "nbformat": 4,
 "nbformat_minor": 4
}
