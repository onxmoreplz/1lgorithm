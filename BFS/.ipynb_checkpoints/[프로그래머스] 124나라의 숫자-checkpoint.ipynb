{
 "cells": [
  {
   "cell_type": "code",
   "execution_count": null,
   "metadata": {},
   "outputs": [],
   "source": [
    "def solution(n):\n",
    "  answer = ''\n",
    "  while n:\n",
    "    if n % 3:\n",
    "      answer += str(n % 3)\n",
    "      n //= 3\n",
    "    else:\n",
    "      answer += '4'\n",
    "      n = n//3 - 1\n",
    "\n",
    "\n",
    "  return answer[::-1]"
   ]
  }
 ],
 "metadata": {
  "kernelspec": {
   "display_name": "Python 3",
   "language": "python",
   "name": "python3"
  },
  "language_info": {
   "codemirror_mode": {
    "name": "ipython",
    "version": 3
   },
   "file_extension": ".py",
   "mimetype": "text/x-python",
   "name": "python",
   "nbconvert_exporter": "python",
   "pygments_lexer": "ipython3",
   "version": "3.8.5"
  }
 },
 "nbformat": 4,
 "nbformat_minor": 4
}
