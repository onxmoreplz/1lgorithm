{
 "cells": [
  {
   "cell_type": "code",
   "execution_count": null,
   "metadata": {},
   "outputs": [],
   "source": [
    "import sys\n",
    "\n",
    "N = int(sys.stdin.readline())\n",
    "cost = []\n",
    "\n",
    "for _ in range(N):\n",
    "  cost.append(list(map(int, sys.stdin.readline().split())))\n",
    "\n",
    "for i in range(1, len(cost)):\n",
    "  cost[i][0] = min(cost[i-1][1], cost[i-1][2]) + cost[i][0]\n",
    "  cost[i][1] = min(cost[i-1][0], cost[i-1][2]) + cost[i][1]\n",
    "  cost[i][2] = min(cost[i-1][0], cost[i-1][1]) + cost[i][2]\n",
    "\n",
    "print(min(cost[N-1][0], cost[N-1][1], cost[N-1][2]))"
   ]
  }
 ],
 "metadata": {
  "kernelspec": {
   "display_name": "Python 3",
   "language": "python",
   "name": "python3"
  },
  "language_info": {
   "codemirror_mode": {
    "name": "ipython",
    "version": 3
   },
   "file_extension": ".py",
   "mimetype": "text/x-python",
   "name": "python",
   "nbconvert_exporter": "python",
   "pygments_lexer": "ipython3",
   "version": "3.8.5"
  }
 },
 "nbformat": 4,
 "nbformat_minor": 4
}
