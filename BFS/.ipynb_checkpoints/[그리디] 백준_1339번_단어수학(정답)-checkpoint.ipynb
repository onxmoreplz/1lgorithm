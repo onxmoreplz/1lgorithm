{
 "cells": [
  {
   "cell_type": "code",
   "execution_count": null,
   "metadata": {},
   "outputs": [],
   "source": [
    "import sys\n",
    "\n",
    "N = int(sys.stdin.readline().strip())\n",
    "words = [list(sys.stdin.readline().strip()) for _ in range(N)]\n",
    "\n",
    "dict = {}\n",
    "\n",
    "for word in words:\n",
    "  power = len(word)-1\n",
    "  for c in word:\n",
    "    if c in dict:\n",
    "      dict[c] += 10 ** power\n",
    "    else:\n",
    "      dict[c] = 10 ** power\n",
    "    power -= 1\n",
    "\n",
    "dict = sorted(dict.values(), reverse = True)\n",
    "\n",
    "answer = 0\n",
    "num = 9\n",
    "for i in range(len(dict)):\n",
    "  answer += dict[i][1] * num\n",
    "  num -= 1\n",
    "\n",
    "print(answer)"
   ]
  }
 ],
 "metadata": {
  "kernelspec": {
   "display_name": "Python 3",
   "language": "python",
   "name": "python3"
  },
  "language_info": {
   "codemirror_mode": {
    "name": "ipython",
    "version": 3
   },
   "file_extension": ".py",
   "mimetype": "text/x-python",
   "name": "python",
   "nbconvert_exporter": "python",
   "pygments_lexer": "ipython3",
   "version": "3.8.5"
  }
 },
 "nbformat": 4,
 "nbformat_minor": 4
}
