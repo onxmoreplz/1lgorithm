{
 "cells": [
  {
   "cell_type": "code",
   "execution_count": 2,
   "metadata": {},
   "outputs": [
    {
     "name": "stdout",
     "output_type": "stream",
     "text": [
      "5 6\n",
      "101010\n",
      "111111\n",
      "000001\n",
      "111111\n",
      "111111\n",
      "10\n"
     ]
    }
   ],
   "source": [
    "from collections import deque\n",
    "\n",
    "N, M = map(int, input().split())\n",
    "\n",
    "arr = []\n",
    "\n",
    "def bfs(x, y):\n",
    "  queue = deque()\n",
    "  queue.append((x, y))\n",
    "  print(arr)\n",
    "  while queue:\n",
    "    X, Y = queue.popleft()\n",
    "    for i in range(4):\n",
    "      nx = X + dx[i]\n",
    "      ny = Y + dy[i]\n",
    "      if nx < 0 or ny < 0 or nx >= N or ny >= M:\n",
    "        continue\n",
    "      if arr[nx][ny] == 0:\n",
    "        continue\n",
    "      if arr[nx][ny] == 1:\n",
    "        arr[nx][ny] = arr[X][Y] + 1\n",
    "        queue.append((nx, ny))\n",
    "\n",
    "  return arr[N-1][M-1]\n",
    "\n",
    "\n",
    "\n",
    "dx = [-1, 1, 0, 0]\n",
    "dy = [0, 0, -1, 1]\n",
    "\n",
    "for _ in range(N):\n",
    "  arr.append(list(map(int, input())))\n",
    "\n",
    "\n",
    "\n",
    "\n",
    "print(bfs(0, 0))"
   ]
  },
  {
   "cell_type": "code",
   "execution_count": null,
   "metadata": {},
   "outputs": [],
   "source": []
  }
 ],
 "metadata": {
  "kernelspec": {
   "display_name": "Python 3",
   "language": "python",
   "name": "python3"
  },
  "language_info": {
   "codemirror_mode": {
    "name": "ipython",
    "version": 3
   },
   "file_extension": ".py",
   "mimetype": "text/x-python",
   "name": "python",
   "nbconvert_exporter": "python",
   "pygments_lexer": "ipython3",
   "version": "3.8.5"
  }
 },
 "nbformat": 4,
 "nbformat_minor": 4
}
