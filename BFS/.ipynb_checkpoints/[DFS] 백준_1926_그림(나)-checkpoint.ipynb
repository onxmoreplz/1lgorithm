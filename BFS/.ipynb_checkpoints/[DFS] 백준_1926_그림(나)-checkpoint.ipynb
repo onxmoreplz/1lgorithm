{
 "cells": [
  {
   "cell_type": "code",
   "execution_count": null,
   "metadata": {},
   "outputs": [],
   "source": [
    "import sys\n",
    "sys.setrecursionlimit(100000)\n",
    "\n",
    "def dfs(cnt, x, y):\n",
    "  arr[x][y] = 2\n",
    "  for i in range(4):\n",
    "    nx = x + dx[i]\n",
    "    ny = y + dy[i]\n",
    "    if 0 <= nx < n and 0 <= ny < m and arr[nx][ny] == 1:\n",
    "      cnt = dfs(cnt, nx, ny) + 1\n",
    "      \n",
    "  return cnt\n",
    "\n",
    "n, m = map(int, sys.stdin.readline().split())\n",
    "arr = []\n",
    "for _ in range(n):\n",
    "  arr.append(list(map(int, sys.stdin.readline().split())))\n",
    "\n",
    "dx = [-1, 1, 0, 0]\n",
    "dy = [0, 0, -1, 1]\n",
    "answer = []\n",
    "for i in range(n):\n",
    "  for j in range(m):\n",
    "    if arr[i][j] == 1:\n",
    "      answer.append(dfs(1, i, j))\n",
    "      \n",
    "if len(answer) == 0:\n",
    "  print(0)\n",
    "  print(0)\n",
    "else:\n",
    "  print(len(answer))\n",
    "  print(max(answer))"
   ]
  }
 ],
 "metadata": {
  "kernelspec": {
   "display_name": "Python 3",
   "language": "python",
   "name": "python3"
  },
  "language_info": {
   "codemirror_mode": {
    "name": "ipython",
    "version": 3
   },
   "file_extension": ".py",
   "mimetype": "text/x-python",
   "name": "python",
   "nbconvert_exporter": "python",
   "pygments_lexer": "ipython3",
   "version": "3.8.5"
  }
 },
 "nbformat": 4,
 "nbformat_minor": 4
}
