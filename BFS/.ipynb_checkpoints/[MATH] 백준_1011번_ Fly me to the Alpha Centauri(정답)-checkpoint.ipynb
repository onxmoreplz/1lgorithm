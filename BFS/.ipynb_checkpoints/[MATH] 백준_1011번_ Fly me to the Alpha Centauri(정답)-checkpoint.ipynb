{
 "cells": [
  {
   "cell_type": "code",
   "execution_count": null,
   "metadata": {},
   "outputs": [],
   "source": [
    "import sys\n",
    "import math\n",
    "\n",
    "T = int(sys.stdin.readline().strip())\n",
    "\n",
    "for _ in range(T):\n",
    "  x, y = map(int, sys.stdin.readline().split())\n",
    "  distance = y - x\n",
    "  answer = 0\n",
    "\n",
    "  num = math.floor(math.sqrt(distance))\n",
    "  num_square = num ** 2\n",
    "  increase_num = math.sqrt(num_square)\n",
    "\n",
    "  if distance > num_square + increase_num:\n",
    "    answer = num * 2 + 1\n",
    "  elif num_square < distance <= num_square + increase_num:\n",
    "    answer = num * 2\n",
    "  elif distance == num_square:\n",
    "    answer = num * 2 - 1\n",
    "\n",
    "  if distance < 4:\n",
    "    answer = distance\n",
    "  \n",
    "  print(answer)\n"
   ]
  }
 ],
 "metadata": {
  "kernelspec": {
   "display_name": "Python 3",
   "language": "python",
   "name": "python3"
  },
  "language_info": {
   "codemirror_mode": {
    "name": "ipython",
    "version": 3
   },
   "file_extension": ".py",
   "mimetype": "text/x-python",
   "name": "python",
   "nbconvert_exporter": "python",
   "pygments_lexer": "ipython3",
   "version": "3.8.5"
  }
 },
 "nbformat": 4,
 "nbformat_minor": 4
}
