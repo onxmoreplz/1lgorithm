{
 "cells": [
  {
   "cell_type": "code",
   "execution_count": null,
   "metadata": {},
   "outputs": [],
   "source": [
    "import sys\n",
    "\n",
    "N, M = map(int, sys.stdin.readline().split())\n",
    "x, y, heading = map(int, sys.stdin.readline().split())\n",
    "A = []\n",
    "\n",
    "head = [0, 1, 2, 3]\n",
    "dx = [-1, 0, 1, 0]\n",
    "dy = [0, -1, 0, 1]\n",
    "\n",
    "for _ in range(N):\n",
    "  A.append(list(map(int, sys.stdin.readline().split())))\n",
    "\n",
    "answer = 0\n",
    "while True:\n",
    "  if A[x][y] == 0:\n",
    "    answer += 1\n",
    "  for i in range(4):\n",
    "    nx = x + dx[i]\n",
    "    ny = y + dy[i]\n",
    "    if 0 <= nx < N and 0 <= ny < M:\n",
    "      heading = (heading + 1) % 4\n",
    "      if heading == 0 and A[x-1][y] == 0:\n",
    "        x -= 1\n",
    "        break\n",
    "      elif heading == 1 and A[x][y-1] == 0:\n",
    "        y -= 1\n",
    "        break\n",
    "      elif heading == 2 and A[x+1][y] == 0:\n",
    "        x += 1\n",
    "        break\n",
    "      elif heading == 3 and A[x][y+1] == 0:\n",
    "        y += 1\n",
    "        break\n",
    "    \n"
   ]
  }
 ],
 "metadata": {
  "kernelspec": {
   "display_name": "Python 3",
   "language": "python",
   "name": "python3"
  },
  "language_info": {
   "codemirror_mode": {
    "name": "ipython",
    "version": 3
   },
   "file_extension": ".py",
   "mimetype": "text/x-python",
   "name": "python",
   "nbconvert_exporter": "python",
   "pygments_lexer": "ipython3",
   "version": "3.8.5"
  }
 },
 "nbformat": 4,
 "nbformat_minor": 4
}
