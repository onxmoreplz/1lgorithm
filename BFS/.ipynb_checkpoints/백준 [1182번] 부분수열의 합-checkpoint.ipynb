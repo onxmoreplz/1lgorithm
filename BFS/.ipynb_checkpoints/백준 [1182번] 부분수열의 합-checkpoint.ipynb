{
 "cells": [
  {
   "cell_type": "code",
   "execution_count": null,
   "metadata": {},
   "outputs": [],
   "source": [
    "import sys\n",
    "from itertools import combinations\n",
    "\n",
    "n, s = map(int, sys.stdin.readline().split())\n",
    "nums = list(map(int, sys.stdin.readline().split()))\n",
    "\n",
    "answer = 0\n",
    "for i in range(1, n+1):\n",
    "  for combi in list(combinations(nums, i)):\n",
    "    if sum (combi) == s:\n",
    "      answer += 1\n",
    "print(answer)"
   ]
  }
 ],
 "metadata": {
  "kernelspec": {
   "display_name": "Python 3",
   "language": "python",
   "name": "python3"
  },
  "language_info": {
   "codemirror_mode": {
    "name": "ipython",
    "version": 3
   },
   "file_extension": ".py",
   "mimetype": "text/x-python",
   "name": "python",
   "nbconvert_exporter": "python",
   "pygments_lexer": "ipython3",
   "version": "3.8.5"
  }
 },
 "nbformat": 4,
 "nbformat_minor": 4
}
