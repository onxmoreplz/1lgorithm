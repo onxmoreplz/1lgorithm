{
 "cells": [
  {
   "cell_type": "code",
   "execution_count": null,
   "metadata": {},
   "outputs": [],
   "source": [
    "import sys\n",
    "\n",
    "N = int(sys.stdin.readline())\n",
    "\n",
    "commands = []\n",
    "pivotMax = 0\n",
    "pivotMin = 0\n",
    "answer = []\n",
    "\n",
    "for _ in range(N):\n",
    "  mode, arg1, arg2 = map(str, sys.stdin.readline().split())\n",
    "  commands.append((mode, arg1, arg2))\n",
    "  if mode == 'undo':\n",
    "    pivotMax = int(arg2)\n",
    "    pivotMin = int(arg2) - int(arg1)\n",
    "print(commands, pivotMax, pivotMin)\n",
    "\n",
    "\n",
    "for i in range(len(commands)-1, -1, -1):\n",
    "  if commands[i][0] == 'undo':\n",
    "    if int(commands[i][2]) < pivotMin:\n",
    "      pivotMax = int(commands[i][2])\n",
    "      pivotMin = int(commands[i][2]) - int(commands[i][1])\n",
    "      print(pivotMax, pivotMin)\n",
    "\n",
    "  elif commands[i][0] == 'type':\n",
    "    if not int(commands[i][2]) >= pivotMin and int(commands[i][2]) <= pivotMax:\n",
    "      answer.append(commands[i][1])\n",
    "\n",
    "\n",
    "\n",
    "for ans in answer:\n",
    "  print(ans)"
   ]
  },
  {
   "cell_type": "code",
   "execution_count": null,
   "metadata": {},
   "outputs": [],
   "source": []
  }
 ],
 "metadata": {
  "kernelspec": {
   "display_name": "Python 3",
   "language": "python",
   "name": "python3"
  },
  "language_info": {
   "codemirror_mode": {
    "name": "ipython",
    "version": 3
   },
   "file_extension": ".py",
   "mimetype": "text/x-python",
   "name": "python",
   "nbconvert_exporter": "python",
   "pygments_lexer": "ipython3",
   "version": "3.8.5"
  }
 },
 "nbformat": 4,
 "nbformat_minor": 4
}
