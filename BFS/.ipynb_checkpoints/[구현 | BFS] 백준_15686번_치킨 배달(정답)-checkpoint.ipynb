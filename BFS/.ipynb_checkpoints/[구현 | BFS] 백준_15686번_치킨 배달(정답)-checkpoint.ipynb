{
 "cells": [
  {
   "cell_type": "code",
   "execution_count": null,
   "metadata": {},
   "outputs": [],
   "source": [
    "import sys\n",
    "from itertools import combinations\n",
    "        \n",
    "n, m = map(int, sys.stdin.readline().split())\n",
    "arr = [list(map(int, sys.stdin.readline().split())) for _ in range(n)]\n",
    "\n",
    "chicken = []\n",
    "houses = []\n",
    "\n",
    "for i in range(n):\n",
    "  for j in range(n):\n",
    "    if arr[i][j] == 1:\n",
    "      houses.append((i, j))\n",
    "    elif arr[i][j] == 2:\n",
    "      chicken.append((i, j))\n",
    "\n",
    "min_val = float('inf')\n",
    "for chic in combinations(chicken, m):\n",
    "  chicken_distance = 0\n",
    "  for house in houses:\n",
    "    chicken_distance += min([abs(house[0] - i[0]) + abs(house[1] - i[1]) for i in chic])\n",
    "    if min_val <= chicken_distance:\n",
    "      break\n",
    "  if chicken_distance < min_val:\n",
    "    min_val = chicken_distance\n",
    "\n",
    "print(min_val)"
   ]
  }
 ],
 "metadata": {
  "kernelspec": {
   "display_name": "Python 3",
   "language": "python",
   "name": "python3"
  },
  "language_info": {
   "codemirror_mode": {
    "name": "ipython",
    "version": 3
   },
   "file_extension": ".py",
   "mimetype": "text/x-python",
   "name": "python",
   "nbconvert_exporter": "python",
   "pygments_lexer": "ipython3",
   "version": "3.8.5"
  }
 },
 "nbformat": 4,
 "nbformat_minor": 4
}
