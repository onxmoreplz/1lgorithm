{
 "cells": [
  {
   "cell_type": "code",
   "execution_count": null,
   "metadata": {},
   "outputs": [],
   "source": [
    "import sys\n",
    "import copy\n",
    "\n",
    "N, M = map(int, input().split())\n",
    "\n",
    "NM = []\n",
    "\n",
    "for _ in range(N):\n",
    "  NM.append(list(map(int, input().split())))\n",
    "\n",
    "dx = [-1, 1, 0, 0]\n",
    "dy = [0, 0, -1, 1]\n",
    "answer = 0\n",
    "\n",
    "def select_wall(wall, count):\n",
    "  global answer \n",
    "  if count == 3:\n",
    "    tmpNM = copy.deepcopy(NM)\n",
    "    for row in range(N):\n",
    "      for col in range(M):\n",
    "        spread_virus(row, col, tmpNM)\n",
    "    safe_counts = sum(i.count(0) for i in tmpNM)\n",
    "    answer = max(answer, safe_counts)\n",
    "\n",
    "  else:\n",
    "    for i in range(wall, N * M):\n",
    "      row = i // M\n",
    "      col = i % M\n",
    "      if NM[row][col] == 0:\n",
    "        NM[row][col] = 1\n",
    "        select_wall(i, count + 1)\n",
    "        NM[row][col] = 0\n",
    "\n",
    "\n",
    "def spread_virus(x, y, tmpNM):\n",
    "  if tmpNM[x][y] == 2:\n",
    "    for i in range(4):\n",
    "      nx = dx[i] + x\n",
    "      ny = dy[i] + y\n",
    "      if nx >= 0 and ny >= 0 and nx < N and ny < M:\n",
    "        if tmpNM[nx][ny] == 0:\n",
    "          tmpNM[nx][ny] = 2\n",
    "          spread_virus(nx, ny, tmpNM)\n",
    "\n",
    "\n",
    "select_wall(0, 0)\n",
    "print(answer)"
   ]
  }
 ],
 "metadata": {
  "kernelspec": {
   "display_name": "Python 3",
   "language": "python",
   "name": "python3"
  },
  "language_info": {
   "codemirror_mode": {
    "name": "ipython",
    "version": 3
   },
   "file_extension": ".py",
   "mimetype": "text/x-python",
   "name": "python",
   "nbconvert_exporter": "python",
   "pygments_lexer": "ipython3",
   "version": "3.8.5"
  }
 },
 "nbformat": 4,
 "nbformat_minor": 4
}
