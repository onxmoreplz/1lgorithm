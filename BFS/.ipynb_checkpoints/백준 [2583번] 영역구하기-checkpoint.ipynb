{
 "cells": [
  {
   "cell_type": "code",
   "execution_count": null,
   "metadata": {},
   "outputs": [],
   "source": [
    "import sys\n",
    "from collections import deque\n",
    "\n",
    "dx = [-1, 1, 0, 0]\n",
    "dy = [0, 0, -1, 1]\n",
    "answers = []\n",
    "\n",
    "def bfs(graph, row, col):\n",
    "  queue = deque()\n",
    "  queue.append((row, col))\n",
    "  answer = 0\n",
    "  while queue:\n",
    "    x, y  = queue.popleft()\n",
    "    for dir in range(4):\n",
    "      nx = x + dx[dir]\n",
    "      ny = y + dy[dir]\n",
    "      if 0 <= nx < m and 0 <= ny < n and graph[nx][ny] == 0:\n",
    "        graph[nx][ny] = 2\n",
    "        queue.append((nx, ny))\n",
    "        answer += 1\n",
    "  if answer == 0:\n",
    "    answer = 1\n",
    "  answers.append(answer)\n",
    "\n",
    "\n",
    "\n",
    "m, n, k = map(int, sys.stdin.readline().split())\n",
    "arr = [[0] * n for _ in range(m)]\n",
    "\n",
    "for _ in range(k):\n",
    "  a1, b1, a2, b2 = map(int, sys.stdin.readline().split())\n",
    "  for i in range(b1, b2):\n",
    "    for j in range(a1, a2):\n",
    "      arr[i][j] = 1\n",
    "\n",
    "for i in range(m):\n",
    "  for j in range(n):\n",
    "    if arr[i][j] == 0:\n",
    "      bfs(arr, i, j)\n",
    "\n",
    "answers.sort()\n",
    "answer = ''\n",
    "for ans in answers:\n",
    "  answer += str(ans)\n",
    "  answer += ' '\n",
    "print(answer.strip())"
   ]
  }
 ],
 "metadata": {
  "kernelspec": {
   "display_name": "Python 3",
   "language": "python",
   "name": "python3"
  },
  "language_info": {
   "codemirror_mode": {
    "name": "ipython",
    "version": 3
   },
   "file_extension": ".py",
   "mimetype": "text/x-python",
   "name": "python",
   "nbconvert_exporter": "python",
   "pygments_lexer": "ipython3",
   "version": "3.8.5"
  }
 },
 "nbformat": 4,
 "nbformat_minor": 4
}
