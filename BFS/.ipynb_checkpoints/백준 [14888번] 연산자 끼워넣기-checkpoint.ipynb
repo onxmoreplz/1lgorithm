{
 "cells": [
  {
   "cell_type": "code",
   "execution_count": null,
   "metadata": {},
   "outputs": [],
   "source": [
    "import sys\n",
    "from itertools import permutations\n",
    "\n",
    "n = int(sys.stdin.readline().strip())\n",
    "o = ['+', '-', '*', '/']\n",
    "nums = list(map(int, sys.stdin.readline().split()))\n",
    "oper = list(map(int, sys.stdin.readline().split()))\n",
    "\n",
    "operations = []\n",
    "for i in range(4):\n",
    "  for _ in range(oper[i]):\n",
    "    operations.append(o[i])\n",
    "\n",
    "operations = list(set(permutations(operations, len(operations))))\n",
    "\n",
    "answers = []\n",
    "for tmpOp in operations:\n",
    "  n = nums[0]\n",
    "  for j in range(len(nums) - 1):\n",
    "    if tmpOp[j] == '+':\n",
    "      n += nums[j+1]\n",
    "    if tmpOp[j] == '-':\n",
    "      n -= nums[j+1]\n",
    "    if tmpOp[j] == '*':\n",
    "      n *= nums[j+1]\n",
    "    if tmpOp[j] == '/':\n",
    "      if n // nums[j+1] < 0:\n",
    "        n = -(-n // nums[j+1])\n",
    "      else:\n",
    "        n = n // nums[j+1]\n",
    "\n",
    "  answers.append(n)\n",
    "print(answers)\n",
    "print(max(answers))\n",
    "print(min(answers))"
   ]
  }
 ],
 "metadata": {
  "kernelspec": {
   "display_name": "Python 3",
   "language": "python",
   "name": "python3"
  },
  "language_info": {
   "codemirror_mode": {
    "name": "ipython",
    "version": 3
   },
   "file_extension": ".py",
   "mimetype": "text/x-python",
   "name": "python",
   "nbconvert_exporter": "python",
   "pygments_lexer": "ipython3",
   "version": "3.8.5"
  }
 },
 "nbformat": 4,
 "nbformat_minor": 4
}
