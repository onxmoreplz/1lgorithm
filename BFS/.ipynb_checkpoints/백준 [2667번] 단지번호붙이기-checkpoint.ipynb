{
 "cells": [
  {
   "cell_type": "code",
   "execution_count": null,
   "metadata": {},
   "outputs": [],
   "source": [
    "import sys\n",
    "from collections import deque\n",
    "\n",
    "dx = [-1, 1, 0, 0]\n",
    "dy = [0, 0, -1, 1]\n",
    "\n",
    "def bfs(graph, row, col):\n",
    "  queue = deque()\n",
    "  queue.append((row, col))\n",
    "  graph[row][col] = 0\n",
    "  count = 1\n",
    "  while queue:\n",
    "    x, y = queue.popleft()\n",
    "    for dir in range(4):\n",
    "      nx = x + dx[dir]\n",
    "      ny = y + dy[dir]\n",
    "      if 0 <= nx < n and 0 <= ny < n and graph[nx][ny] == 1:\n",
    "        graph[nx][ny] = 0\n",
    "        count += 1\n",
    "        queue.append((nx, ny))\n",
    "  return count\n",
    "\n",
    "\n",
    "\n",
    "\n",
    "n = int(sys.stdin.readline().strip())\n",
    "\n",
    "graph = []\n",
    "\n",
    "for _ in range(n):\n",
    "  graph.append(list(map(int, sys.stdin.readline().strip())))\n",
    "\n",
    "answers = []\n",
    "for i in range(n):\n",
    "  for j in range(n):\n",
    "    if graph[i][j] == 1:\n",
    "      answers.append(bfs(graph, i, j))\n",
    "\n",
    "answers.sort()\n",
    "print(len(answers))\n",
    "for i in range(len(answers)):\n",
    "  print(answers[i])"
   ]
  }
 ],
 "metadata": {
  "kernelspec": {
   "display_name": "Python 3",
   "language": "python",
   "name": "python3"
  },
  "language_info": {
   "codemirror_mode": {
    "name": "ipython",
    "version": 3
   },
   "file_extension": ".py",
   "mimetype": "text/x-python",
   "name": "python",
   "nbconvert_exporter": "python",
   "pygments_lexer": "ipython3",
   "version": "3.8.5"
  }
 },
 "nbformat": 4,
 "nbformat_minor": 4
}
