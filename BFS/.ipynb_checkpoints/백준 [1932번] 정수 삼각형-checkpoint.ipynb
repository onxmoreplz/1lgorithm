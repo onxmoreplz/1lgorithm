{
 "cells": [
  {
   "cell_type": "code",
   "execution_count": null,
   "metadata": {},
   "outputs": [],
   "source": [
    "import sys\n",
    "\n",
    "n = int(sys.stdin.readline().strip())\n",
    "nums = []\n",
    "\n",
    "\n",
    "for _ in range(n):\n",
    "  nums.append(list(map(int, sys.stdin.readline().split())))\n",
    "\n",
    "for i in range(1, n):\n",
    "  for j in range(len(nums[i])):\n",
    "    if j == 0:\n",
    "      nums[i][j] += nums[i-1][0]\n",
    "    elif j == len(nums[i]) - 1:\n",
    "      nums[i][j] += nums[i-1][j-1]\n",
    "    else:\n",
    "      nums[i][j] += max(nums[i-1][j-1], nums[i-1][j]) \n",
    "\n",
    "print(max(nums[n-1]))"
   ]
  }
 ],
 "metadata": {
  "kernelspec": {
   "display_name": "Python 3",
   "language": "python",
   "name": "python3"
  },
  "language_info": {
   "codemirror_mode": {
    "name": "ipython",
    "version": 3
   },
   "file_extension": ".py",
   "mimetype": "text/x-python",
   "name": "python",
   "nbconvert_exporter": "python",
   "pygments_lexer": "ipython3",
   "version": "3.8.5"
  }
 },
 "nbformat": 4,
 "nbformat_minor": 4
}
