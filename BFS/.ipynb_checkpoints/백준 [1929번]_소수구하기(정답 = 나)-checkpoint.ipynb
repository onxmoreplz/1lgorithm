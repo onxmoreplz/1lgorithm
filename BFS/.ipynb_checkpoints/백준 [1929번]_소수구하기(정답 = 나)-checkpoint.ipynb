{
 "cells": [
  {
   "cell_type": "code",
   "execution_count": null,
   "metadata": {},
   "outputs": [],
   "source": [
    "import sys\n",
    "\n",
    "m, n = map(int, sys.stdin.readline().split())\n",
    "\n",
    "prime = [0 for _ in range(n+1)]\n",
    "prime[1] = 1\n",
    "for i in range(2, 1000):\n",
    "  for j in range(i*2, n+1, i):\n",
    "    prime[j] = 1\n",
    "\n",
    "for i in range(m, n+1):\n",
    "  if prime[i] == 0:\n",
    "    print(i)"
   ]
  }
 ],
 "metadata": {
  "kernelspec": {
   "display_name": "Python 3",
   "language": "python",
   "name": "python3"
  },
  "language_info": {
   "codemirror_mode": {
    "name": "ipython",
    "version": 3
   },
   "file_extension": ".py",
   "mimetype": "text/x-python",
   "name": "python",
   "nbconvert_exporter": "python",
   "pygments_lexer": "ipython3",
   "version": "3.8.5"
  }
 },
 "nbformat": 4,
 "nbformat_minor": 4
}
