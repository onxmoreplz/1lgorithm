{
 "cells": [
  {
   "cell_type": "code",
   "execution_count": null,
   "metadata": {},
   "outputs": [],
   "source": [
    "import sys\n",
    "from itertools import combinations_with_replacement\n",
    "\n",
    "n, k = map(int, sys.stdin.readline().split())\n",
    "\n",
    "val = []\n",
    "for _  in range(n):\n",
    "  val.append(int(sys.stdin.readline().strip()))\n",
    "val.sort()\n",
    "\n",
    "answer = 0\n",
    "for i in range(k // val[0] + 1):\n",
    "  combis = combinations_with_replacement(val, i)\n",
    "  for combi in combis:\n",
    "    if sum(combi) == k:\n",
    "      answer += 1\n",
    "\n",
    "print(answer)"
   ]
  }
 ],
 "metadata": {
  "kernelspec": {
   "display_name": "Python 3",
   "language": "python",
   "name": "python3"
  },
  "language_info": {
   "codemirror_mode": {
    "name": "ipython",
    "version": 3
   },
   "file_extension": ".py",
   "mimetype": "text/x-python",
   "name": "python",
   "nbconvert_exporter": "python",
   "pygments_lexer": "ipython3",
   "version": "3.8.5"
  }
 },
 "nbformat": 4,
 "nbformat_minor": 4
}
