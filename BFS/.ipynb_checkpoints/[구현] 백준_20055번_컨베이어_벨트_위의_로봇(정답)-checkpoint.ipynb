{
 "cells": [
  {
   "cell_type": "code",
   "execution_count": null,
   "metadata": {},
   "outputs": [],
   "source": [
    "import sys\n",
    "from collections import deque\n",
    "\n",
    "n, k = map(int, sys.stdin.readline().split())\n",
    "belt = deque(map(int, sys.stdin.readline().split()))\n",
    "\n",
    "answer = 1\n",
    "\n",
    "robot = deque(list([0] * n))\n",
    "\n",
    "while True:\n",
    "  belt.rotate(1)\n",
    "  robot.rotate(1)\n",
    "  robot[-1] = 0\n",
    "  for i in range(-2, -n-1, -1):\n",
    "    if robot[i] == 1 and robot[i+1] == 0 and belt[i+1-n] > 0:\n",
    "      robot[i] = 0\n",
    "      robot[i+1] = 1\n",
    "      belt[i+1-n] -= 1\n",
    "  robot[-1] = 0\n",
    "\n",
    "  if robot[0] == 0 and belt[0] > 0:\n",
    "    robot[0] = 1\n",
    "    belt[0] -= 1\n",
    "\n",
    "  if belt.count(0) >= k:\n",
    "    break\n",
    "\n",
    "  answer += 1\n",
    "\n",
    "print(answer)"
   ]
  }
 ],
 "metadata": {
  "kernelspec": {
   "display_name": "Python 3",
   "language": "python",
   "name": "python3"
  },
  "language_info": {
   "codemirror_mode": {
    "name": "ipython",
    "version": 3
   },
   "file_extension": ".py",
   "mimetype": "text/x-python",
   "name": "python",
   "nbconvert_exporter": "python",
   "pygments_lexer": "ipython3",
   "version": "3.8.5"
  }
 },
 "nbformat": 4,
 "nbformat_minor": 4
}
