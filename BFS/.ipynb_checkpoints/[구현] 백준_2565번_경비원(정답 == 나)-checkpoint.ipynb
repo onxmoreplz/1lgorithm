{
 "cells": [
  {
   "cell_type": "code",
   "execution_count": null,
   "metadata": {},
   "outputs": [],
   "source": [
    "import sys\n",
    "\n",
    "M, N = map(int, sys.stdin.readline().split())\n",
    "S = int(sys.stdin.readline().strip())\n",
    "shops = [list(map(int, sys.stdin.readline().split())) for _  in range(S)]\n",
    "\n",
    "dong = list(map(int, sys.stdin.readline().split()))\n",
    "\n",
    "answer = 0\n",
    "\n",
    "for s in shops:\n",
    "  if dong[0] == s[0]:\n",
    "    answer += abs(dong[1] - s[1])\n",
    "  elif (dong[0] == 1 and s[0] == 2) or (s[0] == 1 and dong[0] == 2):\n",
    "    answer += N + min(dong[1] + s[1], (M-dong[1]) + (M-s[1]))\n",
    "  elif dong[0] == 1 and s[0] == 3:\n",
    "    answer += s[1] + dong[1]\n",
    "  elif dong[0] == 1 and s[0] == 4:\n",
    "    answer += (M-dong[1]) + s[1]\n",
    "\n",
    "  elif dong[0] == 2 and s[0] == 3:\n",
    "    answer += dong[1] + (N-s[1])\n",
    "  elif dong[0] == 2 and s[0] == 4:\n",
    "    answer += (M-dong[1]) + (N-s[1])\n",
    "  \n",
    "  elif dong[0] == 3 and s[0] == 1:\n",
    "    answer += dong[1] + s[1]\n",
    "  elif dong[0] == 3 and s[0] == 2:\n",
    "    answer += (N-dong[1]) + s[1]\n",
    "  elif dong[0] == 3 and s[0] == 4:\n",
    "    answer += N + min(dong[1] + s[1], (N-dong[1]) + (N-s[1]))\n",
    "\n",
    "  elif dong[0] == 4 and s[0] == 1:\n",
    "    answer += dong[1] + (M-s[1])\n",
    "  elif dong[0] == 4 and s[0] == 2:\n",
    "    answer += (N-dong[1]) + (M-s[1])\n",
    "  elif dong[0] == 4 and s[0] == 3:\n",
    "    answer += M + min(dong[1] + s[1], (N-dong[1]) + (N-s[1]))\n",
    "  print(dong[0], s[0], answer)\n",
    "\n",
    "print(answer)"
   ]
  }
 ],
 "metadata": {
  "kernelspec": {
   "display_name": "Python 3",
   "language": "python",
   "name": "python3"
  },
  "language_info": {
   "codemirror_mode": {
    "name": "ipython",
    "version": 3
   },
   "file_extension": ".py",
   "mimetype": "text/x-python",
   "name": "python",
   "nbconvert_exporter": "python",
   "pygments_lexer": "ipython3",
   "version": "3.8.5"
  }
 },
 "nbformat": 4,
 "nbformat_minor": 4
}
