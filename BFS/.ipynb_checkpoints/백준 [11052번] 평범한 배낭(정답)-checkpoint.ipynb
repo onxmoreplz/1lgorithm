{
 "cells": [
  {
   "cell_type": "code",
   "execution_count": null,
   "metadata": {},
   "outputs": [],
   "source": [
    "import sys\n",
    "\n",
    "N, K = map(int, sys.stdin.readline().split())\n",
    "bag = [[0, 0]]\n",
    "knapsack = [[0 for _ in range(K + 1)] for _ in range(N + 1)]\n",
    "\n",
    "for _ in range(N):\n",
    "  bag.append(list(map(int, sys.stdin.readline().split())))\n",
    "\n",
    "for i in range(1, N+1):\n",
    "  for j in range(1, K+1):\n",
    "    weight = bag[i][0]\n",
    "    value = bag[i][1]\n",
    "    if j < weight:\n",
    "      knapsack[i][j] = knapsack[i-1][j]\n",
    "    else:\n",
    "      knapsack[i][j] = max(value + knapsack[i-1][j-weight], knapsack[i-1][j])\n",
    "\n",
    "print(knapsack[N][K])"
   ]
  },
  {
   "cell_type": "code",
   "execution_count": null,
   "metadata": {},
   "outputs": [],
   "source": []
  }
 ],
 "metadata": {
  "kernelspec": {
   "display_name": "Python 3",
   "language": "python",
   "name": "python3"
  },
  "language_info": {
   "codemirror_mode": {
    "name": "ipython",
    "version": 3
   },
   "file_extension": ".py",
   "mimetype": "text/x-python",
   "name": "python",
   "nbconvert_exporter": "python",
   "pygments_lexer": "ipython3",
   "version": "3.8.5"
  }
 },
 "nbformat": 4,
 "nbformat_minor": 4
}
