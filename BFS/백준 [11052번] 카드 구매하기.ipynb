{
 "cells": [
  {
   "cell_type": "code",
   "execution_count": null,
   "metadata": {},
   "outputs": [],
   "source": [
    "import sys\n",
    "\n",
    "N = int(sys.stdin.readline().strip())\n",
    "\n",
    "card_pack = list((map(int, sys.stdin.readline().split())))\n",
    "\n",
    "answer = [0 for _ in range(N+1)]\n",
    "answer[1] = card_pack[0]\n",
    "\n",
    "for i in range(2, N+1):\n",
    "  temp = []\n",
    "  for j in range(1, i):\n",
    "      temp.append(answer[i-j] + answer[j])\n",
    "  temp.append(card_pack[i-1])\n",
    "  answer[i] = max(temp)\n",
    "\n",
    "print(answer[N])"
   ]
  }
 ],
 "metadata": {
  "kernelspec": {
   "display_name": "Python 3",
   "language": "python",
   "name": "python3"
  },
  "language_info": {
   "codemirror_mode": {
    "name": "ipython",
    "version": 3
   },
   "file_extension": ".py",
   "mimetype": "text/x-python",
   "name": "python",
   "nbconvert_exporter": "python",
   "pygments_lexer": "ipython3",
   "version": "3.8.5"
  }
 },
 "nbformat": 4,
 "nbformat_minor": 4
}
