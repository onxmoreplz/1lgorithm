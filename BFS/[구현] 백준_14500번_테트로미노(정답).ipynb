{
 "cells": [
  {
   "cell_type": "code",
   "execution_count": null,
   "metadata": {},
   "outputs": [],
   "source": [
    "import sys\n",
    "\n",
    "def nine_teen(x, y):\n",
    "  global answer\n",
    "  for i in range(19):\n",
    "    result = 0\n",
    "    for j in range(4):\n",
    "      try:\n",
    "        nx = x + tetromino[i][j][0]\n",
    "        ny = y + tetromino[i][j][1]\n",
    "        result += arr[nx][ny]\n",
    "      except IndexError:\n",
    "        continue\n",
    "    answer = max(answer, result)\n",
    "\n",
    "n, m = map(int, sys.stdin.readline().split())\n",
    "arr = [list(map(int, sys.stdin.readline().split())) for _ in range(n)]\n",
    "tetromino = [\n",
    "  [(0,0), (1,0), (0,1), (1,1)], # ㅁ\n",
    "  [(0,0), (1,0), (2,0), (3,0)], # ㅡ\n",
    "  [(0,0), (0,1), (0,2), (0,3)], # ㅣ\n",
    "  [(0,0), (0,1), (0,2), (1,0)], # ㄴ\n",
    "  [(1,0), (1,1), (1,2), (0,2)], # ㄱ\n",
    "  [(0,0), (1,0), (1,1), (1,2)], # ㄴ의 데칼꼬마니(1)\n",
    "  [(0,0), (0,1), (0,2), (1,2)], # ㄱ의 데칼꼬마니\n",
    "  [(0,0), (1,0), (2,0), (2,1)], # ㄴ의 데칼꼬마니(2)\n",
    "  [(2,0), (2,1), (1,1), (0,1)], # ㄱ\n",
    "  [(0,0), (0,1), (1,0), (2,0)], # ㄴ\n",
    "  [(0,0), (0,1), (1,1), (2,1)], # \n",
    "  [(0,0), (0,1), (0,2), (1,1)], # ㅏ\n",
    "  [(1,0), (1,1), (1,2), (0,1)], # ㅓ\n",
    "  [(0,0), (1,0), (2,0), (1,1)], # ㅗ\n",
    "  [(1,0), (0,1), (1,1), (2,1)], # ㅜ\n",
    "  [(1,0), (2,0), (0,1), (1,1)], # \n",
    "  [(0,0), (1,0), (1,1), (2,1)], # \n",
    "  [(1,0), (0,1), (1,1), (0,2)],\n",
    "  [(0,0), (0,1), (1,1), (1,2)]\n",
    "]\n",
    "\n",
    "answer = 0\n",
    "for i in range(n):\n",
    "  for j in range(m):\n",
    "    nine_teen(i, j)\n",
    "\n",
    "print(answer)"
   ]
  }
 ],
 "metadata": {
  "kernelspec": {
   "display_name": "Python 3",
   "language": "python",
   "name": "python3"
  },
  "language_info": {
   "codemirror_mode": {
    "name": "ipython",
    "version": 3
   },
   "file_extension": ".py",
   "mimetype": "text/x-python",
   "name": "python",
   "nbconvert_exporter": "python",
   "pygments_lexer": "ipython3",
   "version": "3.8.5"
  }
 },
 "nbformat": 4,
 "nbformat_minor": 4
}
