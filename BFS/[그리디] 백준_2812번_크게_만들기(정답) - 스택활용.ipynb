{
 "cells": [
  {
   "cell_type": "code",
   "execution_count": null,
   "metadata": {},
   "outputs": [],
   "source": [
    "import sys\n",
    "\n",
    "N, K = map(int, sys.stdin.readline().split())\n",
    "li = list(map(str, sys.stdin.readline().strip()))\n",
    "k, stack = K, []\n",
    "\n",
    "for i in range(N):\n",
    "  while k > 0 and stack and stack[-1] < li[i]:\n",
    "    stack.pop()\n",
    "    k -= 1\n",
    "  stack.append(li[i])\n",
    "\n",
    "print(\"\".join(stack[:N-K]))"
   ]
  }
 ],
 "metadata": {
  "kernelspec": {
   "display_name": "Python 3",
   "language": "python",
   "name": "python3"
  },
  "language_info": {
   "codemirror_mode": {
    "name": "ipython",
    "version": 3
   },
   "file_extension": ".py",
   "mimetype": "text/x-python",
   "name": "python",
   "nbconvert_exporter": "python",
   "pygments_lexer": "ipython3",
   "version": "3.8.5"
  }
 },
 "nbformat": 4,
 "nbformat_minor": 4
}
