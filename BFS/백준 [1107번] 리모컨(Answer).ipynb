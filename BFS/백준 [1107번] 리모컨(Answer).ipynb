{
 "cells": [
  {
   "cell_type": "code",
   "execution_count": 1,
   "metadata": {},
   "outputs": [
    {
     "name": "stdout",
     "output_type": "stream",
     "text": [
      "5457\n",
      "3\n",
      "6 7 8\n",
      "6\n"
     ]
    }
   ],
   "source": [
    "goal = int(input())\n",
    "N = int(input())\n",
    "\n",
    "remain = {str(i) for i in range(10)}\n",
    "\n",
    "if N > 0:\n",
    "  remain -= set(map(str, input().split()))\n",
    "\n",
    "current_channel = 100\n",
    "\n",
    "answer = abs(current_channel - goal)\n",
    "\n",
    "for channel in range(1000000):\n",
    "  for j in range(len(str(channel))):\n",
    "    if str(channel)[j] not in remain:\n",
    "      break\n",
    "    elif len(str(channel)) - 1 == j:\n",
    "      answer = min(answer, abs(channel - goal) + len(str(channel)))\n",
    "\n",
    "print(answer)"
   ]
  },
  {
   "cell_type": "code",
   "execution_count": null,
   "metadata": {},
   "outputs": [],
   "source": []
  }
 ],
 "metadata": {
  "kernelspec": {
   "display_name": "Python 3",
   "language": "python",
   "name": "python3"
  },
  "language_info": {
   "codemirror_mode": {
    "name": "ipython",
    "version": 3
   },
   "file_extension": ".py",
   "mimetype": "text/x-python",
   "name": "python",
   "nbconvert_exporter": "python",
   "pygments_lexer": "ipython3",
   "version": "3.8.5"
  }
 },
 "nbformat": 4,
 "nbformat_minor": 4
}
