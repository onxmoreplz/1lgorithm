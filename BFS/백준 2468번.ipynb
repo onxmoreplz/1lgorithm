{
 "cells": [
  {
   "cell_type": "code",
   "execution_count": null,
   "metadata": {},
   "outputs": [],
   "source": [
    "from collections import deque\n",
    "import sys\n",
    "input = sys.stdin.readline\n",
    "\n",
    "def bfs(x, y, height):\n",
    "  queue = deque()\n",
    "  queue.append((x,y))\n",
    "  visited[x][y] = 1\n",
    "\n",
    "  while queue:\n",
    "    x, y = queue.popleft()\n",
    "\n",
    "    for i in range(4):\n",
    "      nx = x + dx[i]\n",
    "      ny = y + dy[i]\n",
    "\n",
    "      if 0 <= nx < N and 0 <= ny < N:\n",
    "          if graph[nx][ny] >= height and visited[nx][ny] == 0:\n",
    "            visited[nx][ny] = 1\n",
    "            queue.append((nx,ny))\n",
    "\n",
    "N = int(input())\n",
    "graph = [list(map(int, input().split())) for _ in range(N)]\n",
    "print(graph)\n",
    "graph_min = min(map(min, graph))\n",
    "graph_max = max(map(max, graph))\n",
    "print(graph_min, graph_max)\n",
    "\n",
    "dx = [-1, 1, 0, 0]\n",
    "dy = [0, 0, -1, 1]\n",
    "\n",
    "answer = graph_min #시작을 최소값으로\n",
    "for height in range(graph_min, graph_max + 1):\n",
    "  visited = [[0] * N for _ in range(N)]\n",
    "  temp = 0\n",
    "  for i in range(N):\n",
    "    for j in range(N):\n",
    "      if graph[i][j] >= height and visited[i][j] == 0:\n",
    "        bfs(i, j, height)\n",
    "        temp += 1\n",
    "  \n",
    "  if temp > answer:\n",
    "    answer = temp\n",
    "print(answer)\n"
   ]
  }
 ],
 "metadata": {
  "kernelspec": {
   "display_name": "Python 3",
   "language": "python",
   "name": "python3"
  },
  "language_info": {
   "codemirror_mode": {
    "name": "ipython",
    "version": 3
   },
   "file_extension": ".py",
   "mimetype": "text/x-python",
   "name": "python",
   "nbconvert_exporter": "python",
   "pygments_lexer": "ipython3",
   "version": "3.8.5"
  }
 },
 "nbformat": 4,
 "nbformat_minor": 4
}
