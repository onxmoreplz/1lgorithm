{
 "cells": [
  {
   "cell_type": "code",
   "execution_count": null,
   "metadata": {},
   "outputs": [],
   "source": [
    "from sys import stdin\n",
    "from collections import deque\n",
    "\n",
    "def bfs(x, y, box):\n",
    "\n",
    "  dx = [-1, 1, 0, 0]\n",
    "  dy = [0, 0, -1, 1]\n",
    "\n",
    "  answer = -1\n",
    "\n",
    "  while queue:\n",
    "    answer += 1\n",
    "    for _ in range(len(queue)):\n",
    "      x, y = queue.popleft()\n",
    "      for i in range(4):\n",
    "        nx = x + dx[i] \n",
    "        ny = y + dy[i]\n",
    "        if 0 <= nx < M and 0 <= ny < N and box[nx][ny] == 0:\n",
    "          box[nx][ny] = box[x][y] + 1\n",
    "          queue.append((nx, ny))\n",
    "\n",
    "  for b in box:\n",
    "    if 0 in b:\n",
    "      return -1\n",
    "  return answer\n",
    "\n",
    "N, M = map(int, stdin.readline().split())\n",
    "box = []\n",
    "queue = deque()\n",
    "\n",
    "\n",
    "for i in range(M):\n",
    "  row = list(map(int, stdin.readline().split()))\n",
    "  for j in range(0, len(row)):\n",
    "    if row[j] == 1:\n",
    "      queue.append((i,j))\n",
    "  box.append(row)\n",
    "\n",
    "print(bfs(0, 0, box))"
   ]
  },
  {
   "cell_type": "code",
   "execution_count": null,
   "metadata": {},
   "outputs": [],
   "source": []
  }
 ],
 "metadata": {
  "kernelspec": {
   "display_name": "Python 3",
   "language": "python",
   "name": "python3"
  },
  "language_info": {
   "codemirror_mode": {
    "name": "ipython",
    "version": 3
   },
   "file_extension": ".py",
   "mimetype": "text/x-python",
   "name": "python",
   "nbconvert_exporter": "python",
   "pygments_lexer": "ipython3",
   "version": "3.8.5"
  }
 },
 "nbformat": 4,
 "nbformat_minor": 4
}
