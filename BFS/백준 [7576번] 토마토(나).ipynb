{
 "cells": [
  {
   "cell_type": "code",
   "execution_count": null,
   "metadata": {},
   "outputs": [],
   "source": [
    "from sys import stdin\n",
    "from collections import deque\n",
    "\n",
    "def bfs(x, y, box):\n",
    "  dx = [-1, 1, 0, 0]\n",
    "  dy = [0, 0, -1, 1]\n",
    "  answer += 1\n",
    "  while(queue):\n",
    "    tmpX, tmpY = queue.popleft()\n",
    "    for i in range(4):\n",
    "      X = tmpX + dx[i]\n",
    "      Y = tmpY + dy[i]\n",
    "      if 0 <= X < N and 0 <= Y < M and box[X][Y] == 0:\n",
    "        box[X][Y] = 1\n",
    "        queue.append((X, Y))\n",
    "  print(answer)\n",
    "\n",
    "N, M = map(int, stdin.readline().split())\n",
    "box = []\n",
    "queue = deque()\n",
    "answer = -1\n",
    "\n",
    "for i in range(M):\n",
    "  row = list(map(int, stdin.readline().split()))\n",
    "  for j in range(0, len(row)):\n",
    "    if row[j] == 1:\n",
    "      queue.append((i,j))\n",
    "  box.append(row)\n",
    "\n",
    "\n",
    "print(bfs(0, 0, box))"
   ]
  },
  {
   "cell_type": "code",
   "execution_count": null,
   "metadata": {},
   "outputs": [],
   "source": []
  }
 ],
 "metadata": {
  "kernelspec": {
   "display_name": "Python 3",
   "language": "python",
   "name": "python3"
  },
  "language_info": {
   "codemirror_mode": {
    "name": "ipython",
    "version": 3
   },
   "file_extension": ".py",
   "mimetype": "text/x-python",
   "name": "python",
   "nbconvert_exporter": "python",
   "pygments_lexer": "ipython3",
   "version": "3.8.5"
  }
 },
 "nbformat": 4,
 "nbformat_minor": 4
}
