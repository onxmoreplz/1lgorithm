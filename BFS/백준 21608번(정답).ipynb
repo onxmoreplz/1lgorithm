{
 "cells": [
  {
   "cell_type": "code",
   "execution_count": 1,
   "metadata": {},
   "outputs": [
    {
     "ename": "ValueError",
     "evalue": "invalid literal for int() with base 10: ''",
     "output_type": "error",
     "traceback": [
      "\u001b[0;31m---------------------------------------------------------------------------\u001b[0m",
      "\u001b[0;31mValueError\u001b[0m                                Traceback (most recent call last)",
      "\u001b[0;32m<ipython-input-1-cf7b851e066d>\u001b[0m in \u001b[0;36m<module>\u001b[0;34m\u001b[0m\n\u001b[1;32m      6\u001b[0m \u001b[0mdy\u001b[0m \u001b[0;34m=\u001b[0m \u001b[0;34m[\u001b[0m\u001b[0;34m-\u001b[0m\u001b[0;36m1\u001b[0m\u001b[0;34m,\u001b[0m \u001b[0;36m1\u001b[0m\u001b[0;34m,\u001b[0m \u001b[0;36m0\u001b[0m\u001b[0;34m,\u001b[0m \u001b[0;36m0\u001b[0m\u001b[0;34m]\u001b[0m\u001b[0;34m\u001b[0m\u001b[0;34m\u001b[0m\u001b[0m\n\u001b[1;32m      7\u001b[0m \u001b[0;34m\u001b[0m\u001b[0m\n\u001b[0;32m----> 8\u001b[0;31m \u001b[0mN\u001b[0m \u001b[0;34m=\u001b[0m \u001b[0mint\u001b[0m\u001b[0;34m(\u001b[0m\u001b[0minput\u001b[0m\u001b[0;34m(\u001b[0m\u001b[0;34m)\u001b[0m\u001b[0;34m)\u001b[0m\u001b[0;34m\u001b[0m\u001b[0;34m\u001b[0m\u001b[0m\n\u001b[0m\u001b[1;32m      9\u001b[0m \u001b[0marr\u001b[0m \u001b[0;34m=\u001b[0m \u001b[0;34m[\u001b[0m\u001b[0;34m[\u001b[0m\u001b[0;36m0\u001b[0m\u001b[0;34m]\u001b[0m\u001b[0;34m*\u001b[0m\u001b[0mN\u001b[0m \u001b[0;32mfor\u001b[0m \u001b[0m_\u001b[0m \u001b[0;32min\u001b[0m \u001b[0mrange\u001b[0m\u001b[0;34m(\u001b[0m\u001b[0mN\u001b[0m\u001b[0;34m)\u001b[0m\u001b[0;34m]\u001b[0m\u001b[0;34m\u001b[0m\u001b[0;34m\u001b[0m\u001b[0m\n\u001b[1;32m     10\u001b[0m \u001b[0mlikeDict\u001b[0m \u001b[0;34m=\u001b[0m \u001b[0mdefaultdict\u001b[0m\u001b[0;34m(\u001b[0m\u001b[0mlist\u001b[0m\u001b[0;34m)\u001b[0m\u001b[0;34m\u001b[0m\u001b[0;34m\u001b[0m\u001b[0m\n",
      "\u001b[0;31mValueError\u001b[0m: invalid literal for int() with base 10: ''"
     ]
    }
   ],
   "source": [
    "import sys \n",
    "from collections import defaultdict\n",
    "input = sys.stdin.readline\n",
    "\n",
    "dx = [0, 0, -1, 1]\n",
    "dy = [-1, 1, 0, 0]\n",
    "\n",
    "N = int(input())\n",
    "arr = [[0]*N for _ in range(N)]\n",
    "likeDict = defaultdict(list)\n",
    "\n",
    "for _ in range(N*N):\n",
    "  _input = list(map(int, input().split()))\n",
    "  likeDict[_input[0]] = _input[1:]\n",
    "\n",
    "  max_x = 0\n",
    "  max_y = 0\n",
    "  max_like = -1\n",
    "  max_empty = -1\n",
    "  for i in range(N):\n",
    "    for j in range(N):\n",
    "      if arr[i][j] == 0:\n",
    "        likeCount = 0\n",
    "        emptyCount = 0\n",
    "        for k in range(4):\n",
    "          nx = i + dx[k]\n",
    "          ny = j + dy[k]\n",
    "          if 0 <= nx < N and 0 <= ny < N:\n",
    "            if arr[nx][ny] in _input:\n",
    "              likeCount += 1\n",
    "            if arr[nx][ny] == 0:\n",
    "              emptyCount += 1\n",
    "        \n",
    "        if max_like < likeCount or (max_like == likeCount and max_empty < emptyCount):\n",
    "          max_x = i\n",
    "          max_y = j\n",
    "          max_like = likeCount\n",
    "          max_empty = emptyCount\n",
    "\n",
    "  arr[max_x][max_y] = _input[0]\n",
    "\n",
    "result = 0\n",
    "for i in range(N):\n",
    "  for j in range(N):\n",
    "    count = 0\n",
    "    like = likeDict[arr[i][j]]\n",
    "    for k in range(4):\n",
    "      nx = i + dx[k]\n",
    "      ny = j + dy[k]\n",
    "      if 0 <= nx < N and 0 <= ny < N:\n",
    "        if arr[nx][ny] in like:\n",
    "          count += 1\n",
    "      \n",
    "    if count != 0:\n",
    "      result += 10**(count-1)\n",
    "      \n",
    "print(result)\n"
   ]
  },
  {
   "cell_type": "code",
   "execution_count": null,
   "metadata": {},
   "outputs": [],
   "source": []
  }
 ],
 "metadata": {
  "kernelspec": {
   "display_name": "Python 3",
   "language": "python",
   "name": "python3"
  },
  "language_info": {
   "codemirror_mode": {
    "name": "ipython",
    "version": 3
   },
   "file_extension": ".py",
   "mimetype": "text/x-python",
   "name": "python",
   "nbconvert_exporter": "python",
   "pygments_lexer": "ipython3",
   "version": "3.8.5"
  }
 },
 "nbformat": 4,
 "nbformat_minor": 4
}
