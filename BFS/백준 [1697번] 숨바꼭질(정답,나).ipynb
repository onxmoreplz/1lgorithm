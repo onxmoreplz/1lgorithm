{
 "cells": [
  {
   "cell_type": "code",
   "execution_count": 9,
   "metadata": {},
   "outputs": [
    {
     "name": "stdout",
     "output_type": "stream",
     "text": [
      "5 17\n",
      "4\n"
     ]
    }
   ],
   "source": [
    "import sys\n",
    "from collections import deque\n",
    "\n",
    "def bfs():\n",
    "  q = deque()\n",
    "  q.append(subin)\n",
    "  while q:\n",
    "    x = q.popleft()\n",
    "    if x == sister:\n",
    "      print(dist[x])\n",
    "      break\n",
    "\n",
    "    for nx in (x-1, x+1, x*2):\n",
    "      if 0 <= nx < MAX and not dist[nx]:\n",
    "        dist[nx] = dist[x] + 1\n",
    "        q.append(nx)\n",
    "\n",
    "\n",
    "subin, sister = map(int, input().split())\n",
    "MAX = 10**5\n",
    "dist = [0] * (MAX + 1)\n",
    "\n",
    "bfs()"
   ]
  },
  {
   "cell_type": "code",
   "execution_count": null,
   "metadata": {},
   "outputs": [],
   "source": []
  }
 ],
 "metadata": {
  "kernelspec": {
   "display_name": "Python 3",
   "language": "python",
   "name": "python3"
  },
  "language_info": {
   "codemirror_mode": {
    "name": "ipython",
    "version": 3
   },
   "file_extension": ".py",
   "mimetype": "text/x-python",
   "name": "python",
   "nbconvert_exporter": "python",
   "pygments_lexer": "ipython3",
   "version": "3.8.5"
  }
 },
 "nbformat": 4,
 "nbformat_minor": 4
}
