{
 "cells": [
  {
   "cell_type": "code",
   "execution_count": null,
   "metadata": {},
   "outputs": [],
   "source": [
    "import sys\n",
    "\n",
    "T = int(sys.stdin.readline())\n",
    "\n",
    "while T > 0:\n",
    "  T -= 1\n",
    "  n = int(sys.stdin.readline())\n",
    "  stickers = []\n",
    "\n",
    "  for _ in range(2):\n",
    "    stickers.append(list(map(int, sys.stdin.readline().split())))\n",
    "\n",
    "  if n == 1:\n",
    "    print(max(stickers[0][0], stickers[1][0]))\n",
    "  elif n == 2:\n",
    "    print(\n",
    "      max(\n",
    "        sum((stickers[0][0], stickers[1][1])),\n",
    "        sum((stickers[1][0], stickers[0][1]))\n",
    "      )\n",
    "    )\n",
    "  else:\n",
    "    values = [ [0]*n for _ in range(2)]\n",
    "    values[0][0] = stickers[0][0]\n",
    "    values[1][0] = stickers[1][0]\n",
    "    values[0][1] = sum((stickers[1][0], stickers[0][1]))\n",
    "    values[1][1] = sum((stickers[0][0], stickers[1][1]))\n",
    "    for i in range(2, n):\n",
    "      stickers[0][i] = max(\n",
    "        sum((values[0][i-2], stickers[1][i-1], stickers[0][i])), \n",
    "        sum((values[1][i-2], stickers[0][i]))\n",
    "      )\n",
    "      stickers[1][i] = max(\n",
    "        sum((values[1][i-2], stickers[0][i-1], stickers[1][i])), \n",
    "        sum((values[0][i-2], stickers[1][i]))\n",
    "      )\n",
    "      \n",
    "    print(max(stickers[0][n-1], stickers[1][n-1]))\n"
   ]
  }
 ],
 "metadata": {
  "kernelspec": {
   "display_name": "Python 3",
   "language": "python",
   "name": "python3"
  },
  "language_info": {
   "codemirror_mode": {
    "name": "ipython",
    "version": 3
   },
   "file_extension": ".py",
   "mimetype": "text/x-python",
   "name": "python",
   "nbconvert_exporter": "python",
   "pygments_lexer": "ipython3",
   "version": "3.8.5"
  }
 },
 "nbformat": 4,
 "nbformat_minor": 4
}
