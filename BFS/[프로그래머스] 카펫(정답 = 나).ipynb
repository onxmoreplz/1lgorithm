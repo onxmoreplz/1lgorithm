{
 "cells": [
  {
   "cell_type": "code",
   "execution_count": null,
   "metadata": {},
   "outputs": [],
   "source": [
    "from math import sqrt\n",
    "\n",
    "def solution(brown, yellow):\n",
    "  combis = []\n",
    "  for i in range(1, int(sqrt(yellow))+1):\n",
    "    if yellow % i == 0:\n",
    "      combis.append((i, int(yellow/i)))\n",
    "\n",
    "  answer = []\n",
    "  for comb in combis:\n",
    "    if comb[0] * 2 + ((comb[1] + 2) * 2) == brown:\n",
    "      answer.append(comb[1] + 2)\n",
    "      answer.append(comb[0] + 2)\n",
    "\n",
    "      return answer\n",
    "\n",
    "solution(10, 2)"
   ]
  }
 ],
 "metadata": {
  "kernelspec": {
   "display_name": "Python 3",
   "language": "python",
   "name": "python3"
  },
  "language_info": {
   "codemirror_mode": {
    "name": "ipython",
    "version": 3
   },
   "file_extension": ".py",
   "mimetype": "text/x-python",
   "name": "python",
   "nbconvert_exporter": "python",
   "pygments_lexer": "ipython3",
   "version": "3.8.5"
  }
 },
 "nbformat": 4,
 "nbformat_minor": 4
}
