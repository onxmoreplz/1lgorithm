{
 "cells": [
  {
   "cell_type": "code",
   "execution_count": null,
   "metadata": {},
   "outputs": [],
   "source": [
    "from sys import stdin\n",
    "\n",
    "N = int(stdin.readline())\n",
    "\n",
    "stack = []\n",
    "\n",
    "for _ in range(N):\n",
    "  tmp = stdin.readline().split()\n",
    "  if tmp[0] == 'push':\n",
    "    stack.append(tmp[1])\n",
    "  elif tmp[0] == 'top':\n",
    "    if stack:\n",
    "      print(stack[len(stack) -1])\n",
    "    else:\n",
    "      print(-1)\n",
    "  elif tmp[0] == 'size':\n",
    "    print(len(stack))\n",
    "  elif tmp[0] == 'empty':\n",
    "    if stack:\n",
    "      print(0)\n",
    "    else:\n",
    "      print(1)\n",
    "  elif tmp[0] == 'pop':\n",
    "    if stack:\n",
    "      print(stack[len(stack) -1])\n",
    "      del stack[len(stack) - 1]\n",
    "    else:\n",
    "      print(-1)"
   ]
  },
  {
   "cell_type": "code",
   "execution_count": null,
   "metadata": {},
   "outputs": [],
   "source": []
  }
 ],
 "metadata": {
  "kernelspec": {
   "display_name": "Python 3",
   "language": "python",
   "name": "python3"
  },
  "language_info": {
   "codemirror_mode": {
    "name": "ipython",
    "version": 3
   },
   "file_extension": ".py",
   "mimetype": "text/x-python",
   "name": "python",
   "nbconvert_exporter": "python",
   "pygments_lexer": "ipython3",
   "version": "3.8.5"
  }
 },
 "nbformat": 4,
 "nbformat_minor": 4
}
