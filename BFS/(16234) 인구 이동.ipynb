{
 "cells": [
  {
   "cell_type": "code",
   "execution_count": null,
   "metadata": {},
   "outputs": [],
   "source": [
    "from collections import deque\n",
    "import sys\n",
    "\n",
    "dx = [-1, 1, 0, 0]\n",
    "dy = [0, 0, -1, 1]\n",
    "\n",
    "def bfs(row, col):\n",
    "  check = False\n",
    "  visited = {(row, col)}\n",
    "  q = deque([(row, col)])\n",
    "  val, cnt = 0, 0\n",
    "\n",
    "  while q:\n",
    "    row, col = q.popleft()\n",
    "    val += arr[row][col]\n",
    "    cnt += 1\n",
    "    for i in range(4):\n",
    "      new_row = row + dx[i]\n",
    "      new_col = col + dy[i]\n",
    "      if 0 <= new_row < N and 0 <= new_col < N and (new_row, new_col) not in visited and L <= abs(arr[new_row][new_col] - arr[row][col]) <= R:\n",
    "        q.append((new_row, new_col))\n",
    "        visited.add((new_row, new_col))\n",
    "        check = True\n",
    "  return val // cnt, visited, check\n",
    "\n",
    "\n",
    "\n",
    "def move():\n",
    "  answer =  0\n",
    "  \n",
    "  while True:\n",
    "    is_Move = False\n",
    "    total_visited = set()\n",
    "    temp = []\n",
    "    for i in range(N):\n",
    "      for j in range(N):\n",
    "        if (i, j) not in total_visited:\n",
    "          value, visited, flag = bfs(i, j)\n",
    "          if flag:\n",
    "            is_Move = True\n",
    "          temp.append((value, visited))\n",
    "          total_visited |= visited\n",
    "    for (value , visit) in temp:\n",
    "      for y, x in visit:\n",
    "        arr[y][x] = value\n",
    "    if not is_Move:\n",
    "      return answer\n",
    "    answer += 1\n",
    "\n",
    "\n",
    "\n",
    "if __name__ == \"__main__\":\n",
    "  N, L, R = map(int, sys.stdin.readline().split())\n",
    "  arr = [list(map(int, sys.stdin.readline().split())) for _ in range(N)]\n",
    "\n",
    "  print(move())"
   ]
  }
 ],
 "metadata": {
  "kernelspec": {
   "display_name": "Python 3",
   "language": "python",
   "name": "python3"
  },
  "language_info": {
   "codemirror_mode": {
    "name": "ipython",
    "version": 3
   },
   "file_extension": ".py",
   "mimetype": "text/x-python",
   "name": "python",
   "nbconvert_exporter": "python",
   "pygments_lexer": "ipython3",
   "version": "3.8.5"
  }
 },
 "nbformat": 4,
 "nbformat_minor": 4
}
