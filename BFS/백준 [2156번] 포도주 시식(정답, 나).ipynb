{
 "cells": [
  {
   "cell_type": "code",
   "execution_count": null,
   "metadata": {},
   "outputs": [],
   "source": [
    "import sys\n",
    "\n",
    "n = int(sys.stdin.readline().strip())\n",
    "wine = [0]\n",
    "dp = [0 for _ in range(n+1)]\n",
    "\n",
    "for _ in range(n):\n",
    "  wine.append(int(sys.stdin.readline().strip()))\n",
    "\n",
    "dp[0] = 0\n",
    "dp[1] = wine[1]\n",
    "if n > 1:\n",
    "  dp[2] = sum((wine[1], wine[2]))\n",
    "\n",
    "for i in range(3, n+1):\n",
    "  print(i)\n",
    "  dp[i] = max(\n",
    "    sum((wine[i], dp[i-2])),\n",
    "    sum((wine[i], wine[i-1], dp[i-3])),\n",
    "    dp[i-1]\n",
    "  )\n",
    "\n",
    "print(dp[n])"
   ]
  }
 ],
 "metadata": {
  "kernelspec": {
   "display_name": "Python 3",
   "language": "python",
   "name": "python3"
  },
  "language_info": {
   "codemirror_mode": {
    "name": "ipython",
    "version": 3
   },
   "file_extension": ".py",
   "mimetype": "text/x-python",
   "name": "python",
   "nbconvert_exporter": "python",
   "pygments_lexer": "ipython3",
   "version": "3.8.5"
  }
 },
 "nbformat": 4,
 "nbformat_minor": 4
}
