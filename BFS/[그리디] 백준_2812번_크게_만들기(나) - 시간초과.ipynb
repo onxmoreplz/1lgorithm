{
 "cells": [
  {
   "cell_type": "code",
   "execution_count": null,
   "metadata": {},
   "outputs": [],
   "source": [
    "import sys\n",
    "\n",
    "n, k = map(int, sys.stdin.readline().split())\n",
    "N = list(map(str, sys.stdin.readline().strip()))\n",
    "K = k\n",
    "answer = ''\n",
    "\n",
    "while len(answer) != n - K:\n",
    "  tmp_N = N[:k+1]\n",
    "  if k != 0:\n",
    "    max_index = int(tmp_N.index(max(tmp_N)))\n",
    "    k -= max_index\n",
    "    answer += max(tmp_N)\n",
    "    N = N[max_index+1:]\n",
    "  else:\n",
    "    for c in N:\n",
    "      answer += c\n",
    "    break\n",
    "\n",
    "print(answer)"
   ]
  }
 ],
 "metadata": {
  "kernelspec": {
   "display_name": "Python 3",
   "language": "python",
   "name": "python3"
  }
 },
 "nbformat": 4,
 "nbformat_minor": 4
}
