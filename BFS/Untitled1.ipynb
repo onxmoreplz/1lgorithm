{
 "cells": [
  {
   "cell_type": "code",
   "execution_count": null,
   "metadata": {},
   "outputs": [],
   "source": [
    "import sys\n",
    "from collections import deque\n",
    "\n",
    "def bfs(col, row):\n",
    "  queue = deque()\n",
    "  queue.append((row,col))\n",
    "\n",
    "  while queue:\n",
    "    x, y = queue.popleft()\n",
    "    for i in range(4):\n",
    "      nx = x + dx[i]\n",
    "      ny = y + dy[i]\n",
    "      if 0 <= nx < n and 0 <= ny < m and graph[nx][ny] == 1:\n",
    "        queue.append((nx, ny))\n",
    "        graph[nx][ny] = graph[x][y] + 1\n",
    "\n",
    "  return graph[n-1][m-1]\n",
    "\n",
    "\n",
    "n, m = map(int, sys.stdin.readline().split())\n",
    "\n",
    "graph = []\n",
    "for _ in range(n):\n",
    "  graph.append(list(map(int, sys.stdin.readline().strip())))\n",
    "\n",
    "dx = [-1, 1, 0, 0]\n",
    "dy = [0, 0, -1, 1]\n",
    "print(bfs(0, 0))"
   ]
  }
 ],
 "metadata": {
  "kernelspec": {
   "display_name": "Python 3",
   "language": "python",
   "name": "python3"
  },
  "language_info": {
   "codemirror_mode": {
    "name": "ipython",
    "version": 3
   },
   "file_extension": ".py",
   "mimetype": "text/x-python",
   "name": "python",
   "nbconvert_exporter": "python",
   "pygments_lexer": "ipython3",
   "version": "3.8.5"
  }
 },
 "nbformat": 4,
 "nbformat_minor": 4
}
