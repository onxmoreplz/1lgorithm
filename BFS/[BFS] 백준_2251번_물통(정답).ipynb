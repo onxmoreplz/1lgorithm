{
 "cells": [
  {
   "cell_type": "code",
   "execution_count": null,
   "metadata": {},
   "outputs": [],
   "source": [
    "import sys\n",
    "from collections import deque\n",
    "\n",
    "def pour(a, b):\n",
    "  if not visited[a][b]:\n",
    "    visited[a][b] = 1\n",
    "    queue.append((a, b))\n",
    "\n",
    "def bfs():\n",
    "  queue.append((0, 0))\n",
    "  visited[0][0] = 1\n",
    "  while queue:\n",
    "    a, b = queue.popleft()\n",
    "    c = C - (a + b)\n",
    "    if a == 0:\n",
    "      answer.append(c)\n",
    "    if a > 0 and b < B:\n",
    "      amount = min(a, B - b)\n",
    "      pour(a - amount, b + amount)\n",
    "    if a > 0 and c < C:\n",
    "      amount = min(a, C - c)\n",
    "      pour(a - amount, b)\n",
    "    if b > 0 and a < A:\n",
    "      amount = min(b, A - a)\n",
    "      pour(a + amount, b - amount)\n",
    "    if b > 0 and c < C:\n",
    "      amount = min(b, C - c)\n",
    "      pour(a, b - amount)\n",
    "    if c > 0 and A - a:\n",
    "      amount = min(c, A - a)\n",
    "      pour(a + amount, b)\n",
    "    if c > 0 and B - b:\n",
    "      amount = min(c, B - b)\n",
    "      pour(a, b + amount)\n",
    "\n",
    "\n",
    "A, B, C = map(int, sys.stdin.readline().split())\n",
    "visited = [[0] * (B+1) for _ in range(A+1)]\n",
    "answer = []\n",
    "\n",
    "queue = deque()\n",
    "bfs()\n",
    "\n",
    "answer.sort()\n",
    "print(' '.join(list(map(str, answer))))"
   ]
  }
 ],
 "metadata": {
  "kernelspec": {
   "display_name": "Python 3",
   "language": "python",
   "name": "python3"
  },
  "language_info": {
   "codemirror_mode": {
    "name": "ipython",
    "version": 3
   },
   "file_extension": ".py",
   "mimetype": "text/x-python",
   "name": "python",
   "nbconvert_exporter": "python",
   "pygments_lexer": "ipython3",
   "version": "3.8.5"
  }
 },
 "nbformat": 4,
 "nbformat_minor": 4
}
